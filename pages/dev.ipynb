{
 "cells": [
  {
   "cell_type": "code",
   "execution_count": 1,
   "metadata": {},
   "outputs": [],
   "source": [
    "import matplotlib.pyplot as plt\n",
    "import xarray as xr\n",
    "import cartopy, cartopy.crs as ccrs\n",
    "import cartopy.feature as cfeature\n",
    "import matplotlib.colors as colors\n",
    "import matplotlib.pyplot as plt\n",
    "from datetime import datetime, timedelta\n",
    "from PIL import Image\n",
    "import glob\n",
    "import warnings\n",
    "import os\n",
    "from PIL import Image\n",
    "import numpy as np\n",
    "# import rioxarray\n",
    "import seaborn as sns"
   ]
  },
  {
   "cell_type": "code",
   "execution_count": 9,
   "metadata": {},
   "outputs": [],
   "source": [
    "def preprocess(f):\n",
    "\n",
    "\n",
    "\n",
    "    # Define datetime\n",
    "    date = str(f.date.values[0])\n",
    "    hours = str(timedelta(seconds=int(f.datesec.values[0]))).split(':')\n",
    "    year, mon, day = int(date[0:4]), int(date[4:6]), int(date[6:])\n",
    "    hour, min, sec = int(hours[0]), int(hours[1]), int(hours[2])\n",
    "    dt = datetime(year,mon,day,hour, min,sec)\n",
    "    \n",
    "    # Assign coords\n",
    "    f = f.assign_coords({'time2': dt})\n",
    "    f = f.expand_dims(['time2'])\n",
    "    f = f.drop_vars(['date', 'datesec'])\n",
    "    f = f.squeeze(['time'])\n",
    "    f = f.rename({'time2':'time'})\n",
    "\n",
    "    return f\n",
    "\n",
    "name =  'exp9init'\n",
    "path = '/work/csp/mg20022/charts/CESM-DART/data/experiments'\n",
    "\n",
    "files = glob.glob(f'{path}/{name}/{name}-*/{name}.dart.e.cam_forecast_mean.*.nc')\n",
    "\n",
    "if len(files) > 0:\n",
    "\n",
    "    f = xr.open_mfdataset(files, preprocess=preprocess)"
   ]
  },
  {
   "cell_type": "code",
   "execution_count": 11,
   "metadata": {},
   "outputs": [],
   "source": [
    "# f.isel(time=0,lev=0)['VS'].where\n",
    "posi = f['VS'].where(f['VS'] > 0.00001, np.nan).copy()\n",
    "nega = f['VS'].where(f['VS'] <= 0.0001, np.nan).copy()"
   ]
  },
  {
   "cell_type": "code",
   "execution_count": null,
   "metadata": {},
   "outputs": [],
   "source": [
    "sns.displot(x=posi.mean(dim=['lat']).values.ravel(), color='blue', kde=True,stat=\"density\" )\n",
    "sns.displot(x=nega.mean(dim=['lat']).values.ravel(), color='red', kde=True, stat=\"density\" )"
   ]
  },
  {
   "cell_type": "code",
   "execution_count": 12,
   "metadata": {},
   "outputs": [],
   "source": [
    "sns.kdeplot(x=posi.mean(dim=['lat']).values.ravel(), fill=True, label='Azul')\n"
   ]
  }
 ],
 "metadata": {
  "kernelspec": {
   "display_name": "Python 3.10.6 ('guatura')",
   "language": "python",
   "name": "python3"
  },
  "language_info": {
   "codemirror_mode": {
    "name": "ipython",
    "version": 3
   },
   "file_extension": ".py",
   "mimetype": "text/x-python",
   "name": "python",
   "nbconvert_exporter": "python",
   "pygments_lexer": "ipython3",
   "version": "3.10.6"
  },
  "orig_nbformat": 4,
  "vscode": {
   "interpreter": {
    "hash": "033e3b9e1b6f3d86f7929316174f0fdba80b1795de64073858dbe800d2ae4767"
   }
  }
 },
 "nbformat": 4,
 "nbformat_minor": 2
}
